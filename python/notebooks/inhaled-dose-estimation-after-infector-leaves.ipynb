{
 "cells": [
  {
   "cell_type": "code",
   "execution_count": 38,
   "id": "301d917a-2a1d-4697-8b5f-93fd2866bd2a",
   "metadata": {},
   "outputs": [],
   "source": [
    "import matplotlib.pyplot as plt\n",
    "import numpy as np\n",
    "import pandas as pd\n",
    "\n",
    "def concentration_at_t(n, G, cadr, c_0, ach, t):\n",
    "    return n * G / cadr + (c_0 - n * G / cadr) * np.exp(-ach * t / 3600)"
   ]
  },
  {
   "cell_type": "markdown",
   "id": "10a87fa2-2595-4b65-a265-53afcca3d2e7",
   "metadata": {},
   "source": [
    "Quanta Generation Rate:\n",
    "$$\n",
    "\\begin{equation}\n",
    "\\begin{aligned}\n",
    "100 \\frac{quanta}{hr} \\cdot \\frac{hr}{3600 sec} = 0.02777 \\frac{quanta}{sec}\n",
    "\\end{aligned}\n",
    "\\end{equation}\n",
    "$$\n",
    "\n",
    "CADR:\n",
    "$$\n",
    "\\begin{equation}\n",
    "\\begin{aligned}\n",
    "350 \\frac{ft^3}{min} \\cdot \\frac{min}{60 sec} = 5.83333 \\frac{ft^3}{sec}\n",
    "\\end{aligned}\n",
    "\\end{equation}\n",
    "$$\n",
    "\n",
    "Susceptible breathing rate:\n",
    "$$\n",
    "\\begin{equation}\n",
    "\\begin{aligned}\n",
    "\\frac{0.288 m^3}{hr} \\cdot \\frac{1 hr}{3600 sec} &= \\frac{0.00008 m^3}{sec}\n",
    "\\end{aligned}\n",
    "\\end{equation}\n",
    "$$\n"
   ]
  },
  {
   "cell_type": "code",
   "execution_count": 26,
   "id": "e4fd2430-5417-47c5-98dc-428cc8219260",
   "metadata": {},
   "outputs": [],
   "source": [
    "initial_build_up = pd.Series(concentration_at_t(n=1, G=0.027777, cadr=0.16518, c_0=0, ach=5, t=np.arange(3600 * 2)))"
   ]
  },
  {
   "cell_type": "code",
   "execution_count": 27,
   "id": "e53f8de9-6888-4ee5-a038-7465554523e6",
   "metadata": {},
   "outputs": [
    {
     "data": {
      "text/plain": [
       "0.1681543599312426"
      ]
     },
     "execution_count": 27,
     "metadata": {},
     "output_type": "execute_result"
    }
   ],
   "source": [
    "initial_build_up.iloc[-1]"
   ]
  },
  {
   "cell_type": "code",
   "execution_count": 28,
   "id": "4c1844e0-273a-498b-a0e8-5c1c11c1d8ee",
   "metadata": {},
   "outputs": [],
   "source": [
    "after_infector_leaves = pd.Series(\n",
    "    concentration_at_t(\n",
    "        n=0, \n",
    "        G=0.027777, \n",
    "        cadr=5.83333, \n",
    "        c_0=initial_build_up.iloc[-1], \n",
    "        ach=5, \n",
    "        t=np.arange(3600 * 4)\n",
    "    )\n",
    ")"
   ]
  },
  {
   "cell_type": "code",
   "execution_count": 29,
   "id": "204ab669-e06f-4139-bbf3-9d0e69f5128f",
   "metadata": {},
   "outputs": [],
   "source": [
    "quanta_curve = pd.concat([initial_build_up, after_infector_leaves]).reset_index()"
   ]
  },
  {
   "cell_type": "code",
   "execution_count": 30,
   "id": "47519796-8177-46b4-a3b3-6c9a4d3b9587",
   "metadata": {},
   "outputs": [
    {
     "data": {
      "text/html": [
       "<div>\n",
       "<style scoped>\n",
       "    .dataframe tbody tr th:only-of-type {\n",
       "        vertical-align: middle;\n",
       "    }\n",
       "\n",
       "    .dataframe tbody tr th {\n",
       "        vertical-align: top;\n",
       "    }\n",
       "\n",
       "    .dataframe thead th {\n",
       "        text-align: right;\n",
       "    }\n",
       "</style>\n",
       "<table border=\"1\" class=\"dataframe\">\n",
       "  <thead>\n",
       "    <tr style=\"text-align: right;\">\n",
       "      <th></th>\n",
       "      <th>index</th>\n",
       "      <th>0</th>\n",
       "    </tr>\n",
       "  </thead>\n",
       "  <tbody>\n",
       "    <tr>\n",
       "      <th>0</th>\n",
       "      <td>0</td>\n",
       "      <td>0.000000e+00</td>\n",
       "    </tr>\n",
       "    <tr>\n",
       "      <th>1</th>\n",
       "      <td>1</td>\n",
       "      <td>2.333962e-04</td>\n",
       "    </tr>\n",
       "    <tr>\n",
       "      <th>2</th>\n",
       "      <td>2</td>\n",
       "      <td>4.664685e-04</td>\n",
       "    </tr>\n",
       "    <tr>\n",
       "      <th>3</th>\n",
       "      <td>3</td>\n",
       "      <td>6.992173e-04</td>\n",
       "    </tr>\n",
       "    <tr>\n",
       "      <th>4</th>\n",
       "      <td>4</td>\n",
       "      <td>9.316431e-04</td>\n",
       "    </tr>\n",
       "    <tr>\n",
       "      <th>...</th>\n",
       "      <td>...</td>\n",
       "      <td>...</td>\n",
       "    </tr>\n",
       "    <tr>\n",
       "      <th>21595</th>\n",
       "      <td>14395</td>\n",
       "      <td>3.490072e-10</td>\n",
       "    </tr>\n",
       "    <tr>\n",
       "      <th>21596</th>\n",
       "      <td>14396</td>\n",
       "      <td>3.485228e-10</td>\n",
       "    </tr>\n",
       "    <tr>\n",
       "      <th>21597</th>\n",
       "      <td>14397</td>\n",
       "      <td>3.480391e-10</td>\n",
       "    </tr>\n",
       "    <tr>\n",
       "      <th>21598</th>\n",
       "      <td>14398</td>\n",
       "      <td>3.475561e-10</td>\n",
       "    </tr>\n",
       "    <tr>\n",
       "      <th>21599</th>\n",
       "      <td>14399</td>\n",
       "      <td>3.470737e-10</td>\n",
       "    </tr>\n",
       "  </tbody>\n",
       "</table>\n",
       "<p>21600 rows × 2 columns</p>\n",
       "</div>"
      ],
      "text/plain": [
       "       index             0\n",
       "0          0  0.000000e+00\n",
       "1          1  2.333962e-04\n",
       "2          2  4.664685e-04\n",
       "3          3  6.992173e-04\n",
       "4          4  9.316431e-04\n",
       "...      ...           ...\n",
       "21595  14395  3.490072e-10\n",
       "21596  14396  3.485228e-10\n",
       "21597  14397  3.480391e-10\n",
       "21598  14398  3.475561e-10\n",
       "21599  14399  3.470737e-10\n",
       "\n",
       "[21600 rows x 2 columns]"
      ]
     },
     "execution_count": 30,
     "metadata": {},
     "output_type": "execute_result"
    }
   ],
   "source": [
    "quanta_curve"
   ]
  },
  {
   "cell_type": "code",
   "execution_count": 60,
   "id": "ff71a29f-6905-4b93-b2d8-e8bc7d491647",
   "metadata": {},
   "outputs": [
    {
     "data": {
      "text/plain": [
       "0.001683864543135405"
      ]
     },
     "execution_count": 60,
     "metadata": {},
     "output_type": "execute_result"
    }
   ],
   "source": [
    "1-np.exp(-((quanta_curve[0][int(7200 + 3600 / 2):].sum() * 0.00008) + (quanta_curve[0][int(7200): int(7200 + 3600/2)].sum() * 0.1 * 0.00008)))"
   ]
  },
  {
   "cell_type": "code",
   "execution_count": 61,
   "id": "5c2010e8-0bbb-4680-a272-db19d1ba542a",
   "metadata": {},
   "outputs": [
    {
     "data": {
      "text/plain": [
       "0.0007952857615999287"
      ]
     },
     "execution_count": 61,
     "metadata": {},
     "output_type": "execute_result"
    }
   ],
   "source": [
    "1-np.exp(-((quanta_curve[0][int(7200 + 3600 / 2):].sum() * 0.00008)))"
   ]
  },
  {
   "cell_type": "code",
   "execution_count": 43,
   "id": "f7e87ae0-0978-4386-b7dd-8ef7e8e28dc0",
   "metadata": {},
   "outputs": [
    {
     "data": {
      "text/plain": [
       "0.009645598740707029"
      ]
     },
     "execution_count": 43,
     "metadata": {},
     "output_type": "execute_result"
    }
   ],
   "source": [
    "1-np.exp(-quanta_curve[0][int(7200):].sum() * 0.00008)"
   ]
  },
  {
   "cell_type": "code",
   "execution_count": 50,
   "id": "8e923c2c-a77e-448e-b8c7-0c9c3fdfda57",
   "metadata": {},
   "outputs": [
    {
     "data": {
      "text/plain": [
       "0.17589979642335052"
      ]
     },
     "execution_count": 50,
     "metadata": {},
     "output_type": "execute_result"
    }
   ],
   "source": [
    "1-np.exp(-quanta_curve[0][3600:7200].sum() * 4 * 0.00008)"
   ]
  },
  {
   "cell_type": "code",
   "execution_count": 43,
   "id": "49c61957-9f16-4524-b6d4-a3f73b5b9fdb",
   "metadata": {},
   "outputs": [
    {
     "data": {
      "text/plain": [
       "0.009645598740707029"
      ]
     },
     "execution_count": 43,
     "metadata": {},
     "output_type": "execute_result"
    }
   ],
   "source": [
    "1-np.exp(-quanta_curve[0][int(7200):].sum() * 0.00008 + )"
   ]
  },
  {
   "cell_type": "code",
   "execution_count": 52,
   "id": "3e3fb4ab-f67c-44f7-bbdc-c10b1c6f0837",
   "metadata": {},
   "outputs": [
    {
     "data": {
      "text/plain": [
       "array([ 9000.,  9001.,  9002., ..., 23397., 23398., 23399.])"
      ]
     },
     "execution_count": 52,
     "metadata": {},
     "output_type": "execute_result"
    }
   ],
   "source": [
    "np.arange(7200 + 3600 / 2, 7200 + 3600 / 2 + 4 * 3600)"
   ]
  },
  {
   "cell_type": "code",
   "execution_count": 54,
   "id": "bed94b37-8561-43d2-ac8e-8269cc270332",
   "metadata": {},
   "outputs": [
    {
     "data": {
      "text/plain": [
       "(21600,)"
      ]
     },
     "execution_count": 54,
     "metadata": {},
     "output_type": "execute_result"
    }
   ],
   "source": [
    "quanta_curve[0].shape"
   ]
  },
  {
   "cell_type": "code",
   "execution_count": 58,
   "id": "c6cda542-12d5-4ef3-b89f-f0fd19c8754e",
   "metadata": {},
   "outputs": [
    {
     "data": {
      "text/plain": [
       "<matplotlib.collections.PolyCollection at 0x122b12b20>"
      ]
     },
     "execution_count": 58,
     "metadata": {},
     "output_type": "execute_result"
    },
    {
     "data": {
      "image/png": "[encoded data removed]",
      "text/plain": [
       "<Figure size 640x480 with 1 Axes>"
      ]
     },
     "metadata": {},
     "output_type": "display_data"
    }
   ],
   "source": [
    "fig, ax = plt.subplots()\n",
    "\n",
    "ax.axvline(0, color='black', alpha=0.5)\n",
    "#ax.axvline(3600, color='g')\n",
    "ax.axvline(7200, color='r', alpha=0.5)\n",
    "ax.axvline(7200 + 3600 / 2, color='b', alpha=0.5)\n",
    "ax.legend([\"infector shows up\", \"Infector leaves after 2 hours\", \"Susceptible comes in unmasked\"])\n",
    "quanta_curve[0].plot(xlabel='time (sec)', ylabel='concentration (quanta)')\n",
    "ax.fill_between(np.arange(7200 + 3600 / 2, quanta_curve[0].shape[0]), 0, quanta_curve[0][int(7200 + 3600 / 2):])"
   ]
  },
  {
   "cell_type": "code",
   "execution_count": null,
   "id": "132701c0-6b59-48c1-8e15-061b9202140c",
   "metadata": {},
   "outputs": [],
   "source": []
  }
 ],
 "metadata": {
  "kernelspec": {
   "display_name": "Python 3 (ipykernel)",
   "language": "python",
   "name": "python3"
  },
  "language_info": {
   "codemirror_mode": {
    "name": "ipython",
    "version": 3
   },
   "file_extension": ".py",
   "mimetype": "text/x-python",
   "name": "python",
   "nbconvert_exporter": "python",
   "pygments_lexer": "ipython3",
   "version": "3.10.5"
  }
 },
 "nbformat": 4,
 "nbformat_minor": 5
}
