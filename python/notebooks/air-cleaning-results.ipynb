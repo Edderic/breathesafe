{
 "cells": [
  {
   "cell_type": "code",
   "execution_count": 1,
   "id": "47dcbb22-d0b4-454c-bdef-ae7274ae1c0a",
   "metadata": {},
   "outputs": [],
   "source": [
    "import pandas as pd\n",
    "import seaborn as sns\n",
    "import matplotlib.pyplot as plt\n",
    "\n",
    "from miscellaneous.utils import \\\n",
    "    adjust_timestamps_to_match_local_timezone, \\\n",
    "    compute_cadr, \\\n",
    "    compute_relative_risk_reduction_per_row, \\\n",
    "    compute_overall_fit_factor, \\\n",
    "    relative_risk_reduction"
   ]
  },
  {
   "cell_type": "markdown",
   "id": "4dd296d0-84f1-426c-a516-60e6da1ea009",
   "metadata": {},
   "source": [
    "# AirGo: Clean Air on the Go\n",
    "\n",
    "## Introduction\n",
    "\n",
    "<div style=\"display: flex; justify-content: center;\">\n",
    "    <img src=\"https://breathesafe-airgo.s3.us-east-2.amazonaws.com/images/edderic-wearing-airgo.jpeg\" width=\"500\" alt='Edderic wearing the AirGo device'/>\n",
    "</div>\n",
    "\n"
   ]
  },
  {
   "cell_type": "markdown",
   "id": "1d10e44f-e702-4e09-89a7-62f76c7dc6f3",
   "metadata": {},
   "source": [
    "COVID-conscious people like me take precautions to lower our risk of getting COVID which can result in Long COVID and multi-organ damage, or even death.\n",
    "\n",
    "<div>\n",
    "<img src=\"https://www.ncbi.nlm.nih.gov/pmc/articles/instance/9839201/bin/41579_2022_846_Fig1_HTML.jpg\" width=\"500\" alt='Long COVID affects many organs'/>\n",
    "</div>\n",
    "\n"
   ]
  },
  {
   "cell_type": "markdown",
   "id": "1bfb85d3-2d51-45f0-bbb8-f3eec57be6b1",
   "metadata": {},
   "source": [
    "Wearing N95 and/or elastomeric masks is one of the best among the many ways to protect oneself. However, there are some cases where this is challenging to do: at the dentist, or at indoor dining venues.\n",
    "\n",
    "<div style=\"display: flex; flex-direction: row;\">\n",
    "    <img src=\"https://www.johnmartindental.com/wp-content/uploads/2019/08/Family-Dentistry-St.-Louis-MO.jpg\" alt=\"Dentist wearing surgical mask treats a child\" width='500'>\n",
    "    <img src=\"https://www.posist.com/restaurant-times/wp-content/uploads/2017/11/Effective-Strategies-To-Improve-Your-Restaurant-Service-And-Provide-A-Stellar-Guest-Experience.jpg\" alt=\"A couple sitting down in a restaurant, getting served by a waiter\" width='500'>\n",
    "</div>\n",
    "\n"
   ]
  },
  {
   "cell_type": "markdown",
   "id": "9661c45e-55f1-41f3-95a3-6217382b878f",
   "metadata": {},
   "source": [
    "I designed AirGo to so that:\n",
    "\n",
    "<ul>\n",
    "    <li>👔 it's wearable. Get clean air, on the go.</li>\n",
    "    <li>🔋 it has long battery life.</li>\n",
    "    <li>⛨ high protection for the wearer, relative to regular air cleaners, cloth, and surgical masks.</li>\n",
    "    <li>🫦 While at rest, the mouth area can be accessible (for dental cleaning, eating, etc.).</li> \n",
    "    <li>🛡️ Detachable visor gives reliably high concentration of clean air for those people walking around with the device indoors.\n",
    "    </li>\n",
    "    <li>😷 Can use this as part of a multi-layered strategy. Doing something where you can use a respirator? Can have this blowing at your face while you also wear a respirator!</li>\n",
    "</ul>"
   ]
  },
  {
   "cell_type": "markdown",
   "id": "615d1af8-e1c3-4fb7-9971-9b97f1373fc0",
   "metadata": {},
   "source": [
    "## SARS-CoV-2 is airborne\n",
    "\n",
    "SARS-CoV-2, the virus that causes COVID-19, is airborne. The virus travels in very small particles that float in the air, called aerosols. [Fine particles with the size of 8 microns or less harbor viruses like SARS-CoV-2](https://www.tandfonline.com/doi/full/10.1080/23744235.2022.2140822), which can then be inhaled as they can be suspended in the air for a long time. Reducing the amount of particles that can be inhaled through ventilation, filtration, and masking is key.\n",
    "\n",
    "![Size Distribution of Aerosols Containing SARS-CoV-2](https://breathesafe-airgo.s3.us-east-2.amazonaws.com/images/size-distribution.png)"
   ]
  },
  {
   "cell_type": "markdown",
   "id": "55576c14-ea7d-40f5-901b-60b2e90de497",
   "metadata": {},
   "source": [
    "The goal, then is to significantly reduce the amount of aerosols inhaled under 8 micrometers (microns), while:\n",
    "- keeping the mouth easily accessible\n",
    "- maintaining mobility for the user, and not having to depend on a tight-fitting seal, a hood that covers the whole head, as in designs of Powered Air Purifying Respirators (PAPRs) that are currently in the market."
   ]
  },
  {
   "cell_type": "markdown",
   "id": "65a42f0f-9a67-4e5c-a592-fcdfc5ff2617",
   "metadata": {
    "jp-MarkdownHeadingCollapsed": true
   },
   "source": [
    "Examples of existing PAPRs:\n",
    "\n",
    "<div>\n",
    "<img src=\"https://encrypted-tbn0.gstatic.com/images?q=tbn:ANd9GcSiya4tBGuWJ3hetBrfJdGt7ltIc95l7St59g&usqp=CAU\" alt='tight-fitting PAPR'>\n",
    "</div>\n",
    "\n",
    "[Versaflo selling for $1800 USD](https://www.grainger.com/product/475M36?gucid=N:N:PS:Paid:GGL:CSM-2295:4P7A1P:20501231&gclid=Cj0KCQjw0bunBhD9ARIsAAZl0E1okfJMnEGKfqKOPqwD0EvhxM_mzQR8l_W2LYGbzwV7ve1kRr8jbKcaAj0lEALw_wcB&gclsrc=aw.ds):\n",
    "<div>\n",
    "    <img src=\"https://breathesafe-airgo.s3.us-east-2.amazonaws.com/images/versaflow-system.png\" alt=\"Versaflow\" width='500'>\n",
    "</div>\n",
    "\n"
   ]
  },
  {
   "cell_type": "markdown",
   "id": "fd06e531-87b0-4442-a110-67a9991e7c4b",
   "metadata": {},
   "source": [
    "## Methods\n",
    "\n",
    "To test the relative reduction in small particles, I used aerosolized salt (NaCl) using an ultrasonic humidifier. I used SPS30 to measure the mass concentration of salt in the air. In some cases, I used a fan running at 1.0 m/s, directed at the device to test the robustness of the device with respect to wind (e.g. when walking). Here's a picture showing the setup:\n",
    "\n",
    "\n",
    "<div>\n",
    "    <img src=\"https://breathesafe-airgo.s3.us-east-2.amazonaws.com/images/testing.jpeg\" width='500'>\n",
    "</div>\n",
    "\n",
    "### Production of Aerosols\n",
    "\n",
    "#### Aqueous Solution of Salt as an Aerosol Source\n",
    "\n",
    "I used [Rob Wissman's instructions](https://twitter.com/robwiss/status/1594196669649735680) to create the mixture. He mentioned that in the [Dal Porto, Cappa, Corsi paper](https://www.tandfonline.com/doi/full/10.1080/02786826.2022.2054674), they used an aqueous salt solution of 100g / 1L to test Corsi-Rosenthal boxes. In the blog post linked in Rob's instructions, he mentioned that using regular salt has iodine, which makes it harder to aerosolize. Instead he recommends using a Kosher salt and distilled water to make the mixture as an option, and this is what I did.\n",
    "\n",
    "\\begin{equation}\n",
    "\\begin{aligned}\n",
    "  100 g / L &=  100 g / L \\cdot 1L \\text{ }H_{2}O  / 4.22675 \\text{cups }H_{2}O \\\\\n",
    "  &= 100g \\text{ salt} / 4.22675 \\text{ cups water} \\\\\n",
    "  &= 23.658g \\text{ salt} / 1 \\text{ cup water}\n",
    "\\end{aligned}\n",
    "\\end{equation}\n",
    "\n",
    "I didn't have access to weight scale, so I looked up the conversion of mass to volume for Kosher salt. There is 288 grams of salt per 1 cup.\n",
    "\\begin{equation}\n",
    "\\begin{aligned}\n",
    "  23.658g \\text{ salt} / 1 \\text{ cup water} \\cdot 1 \\text{ cup} / 288 g &= 0.08215 \\text{ cups salt} / 1 \\text{ cup water} \\\\\n",
    "  &= 0.08215 \\text{ cups salt} / 1 \\text{ cup water} \\cdot 48 \\text{ tsp} / 1 \\text{ cup} \\\\\n",
    "  &= 3.9432 \\text{ tsp salt} / 1 \\text{ cup water}\n",
    "\\end{aligned}\n",
    "\\end{equation}\n",
    "\n",
    "I rounded up and used 4 teaspoons of Kosher salt for the 1 cup of water.\n",
    "\n",
    "#### Aerosolization of Salt\n",
    "\n",
    "Instead of the Wellue nebulizer described in the [Dal Porto, Cappa, Corsi paper](https://www.tandfonline.com/doi/full/10.1080/02786826.2022.2054674) paper and  in [Rob Wissman's instructions](https://twitter.com/robwiss/status/1594196669649735680), I used an ultrasonic humidifier. The humidifier releases the salt solution in the air. The water evaporates, which then creates fine particulate matter, which can be suspended in the air for hours.\n",
    "\n",
    "### Detection of Aerosols\n",
    "\n",
    "<div>\n",
    "    <img src=\"https://mm.digikey.com/Volume0/opasdata/d220001/medias/images/822/MFG_SPS30.jpg\" width='300'>\n",
    "</div>\n",
    "\n",
    "\n",
    "I used the [Sensirion SPS-30](https://mm.digikey.com/Volume0/opasdata/d220001/medias/images/822/MFG_SPS30.jpg) device. It gives readings of mass concentrations (micrograms per cubic meters: µg / m3) in several bins of sizes: PM 0.3-PM 1.0, PM 0.3-PM 2.5, PM 0.3-PM 4, and PM 0.3-PM 10. I used the PM 0.3-PM 1.0 for measurements because SPS30 is known to be very accurate for readings under PM 1.0 for detecting aerosolized salt. Here's a graph taken from [Sousan et al, 2021](https://www.ncbi.nlm.nih.gov/pmc/articles/PMC8233711/), showing that SPS30 is very accurate for PM 1.0 readings across high concentrations, unlike other devices. It matches the [$30,000 USD GRIMM MiniWRAS](https://www.google.com/search?q=miniwras+cost&rlz=1C5GCEM_enUS1035US1035&oq=miniwras+cost&gs_lcrp=EgZjaHJvbWUyBggAEEUYOTIJCAEQABgNGIAEMgoIAhAAGAUYDRgeMgoIAxAAGAUYDRgeMgoIBBAAGAUYDRgeMgoIBRAAGAUYDRgeMgoIBhAAGAUYDRgeMgoIBxAAGAUYDRgeMgoICBAAGAUYDRgeMgwICRAAGAUYChgNGB7SAQg0NDEyajBqN6gCALACAA&sourceid=chrome&ie=UTF-8) reference instrument quite well for PM 1.0:\n",
    "\n",
    "<div>\n",
    "    <img src=\"https://www.ncbi.nlm.nih.gov/pmc/articles/PMC8233711/bin/sensors-21-04146-g003.jpg\" width='500'>\n",
    "</div>"
   ]
  },
  {
   "cell_type": "markdown",
   "id": "f561d113-6955-43b4-b9a1-d4469685c2d5",
   "metadata": {},
   "source": [
    "### Testing Procedure\n",
    "\n",
    "#### Environment\n",
    "\n",
    "Testing was done in a small bathroom, with the door closed, bathroom fan turned off, and no windows. This was to ensure that the changes in PM readings in a short amount of time are due to the AirGo device being turned on, and we can attribute the change in PM readings as a causal effect of the AirGo device. \n",
    "\n",
    "#### Steps:\n",
    "\n",
    "1. Turn on the ultrasonic humidifier.\n",
    "2. Mix the air, either with a fan, or with a towel swaying vigorously.\n",
    "3. Turn off the ultrasonic humidifier as long as the readings are consistently over 200 µg / m3.\n",
    "4. Mix the air some more so that the readings start to consistently hover around some value.\n",
    "5. Software samples for 5 seconds while the device is turned off.\n",
    "6. Turn on the device. Sample for 5 seconds. \n",
    "\n",
    "\n",
    "### Analysis\n",
    "#### Relative reduction: \n",
    "\n",
    "Relative reduction tells us how much of the original amount was reduced after having turned on the AirGo device. The higher the better. \n",
    "\n",
    "In other words: \n",
    "\n",
    "$$\n",
    "\\begin{equation}\n",
    "\\begin{aligned}\n",
    "\\text{Relative Reduction} &= \\frac{C_o - C_i}{C_o} \\\\\n",
    "\\end{aligned}\n",
    "\\end{equation}\n",
    "$$\n",
    "\n",
    "\n",
    "where $Co$ is the concentration in ambient air, while $Ci$ is the concentration inhaled from the device. \n",
    "\n",
    "Instead of using just one value to represent $Co$ and another value to represent $C_i$ took the average of measurements since the statistical bias (on average, how off is it from the true average) is basically 0, as shown from Sousan et. al (2021) for aerosolized salt (though Sousan et. al used I think an hour's worth of data for averaging instead of 5 seconds worth as I did here).\n",
    "\n",
    "Here are the steps:\n",
    "\n",
    "1. Take the average of the readings while the device was turned off.\n",
    "2. Take the average of the readings while the device was turned on.\n",
    "3. Subtract step 1 output from the step 2 output.\n",
    "4. Divide that by the output of Step 1.\n",
    "\n",
    "\n",
    "\n",
    "\n",
    "\n",
    "\n",
    "$$\n",
    "\\begin{equation}\n",
    "\\begin{aligned}\n",
    "\\text{Relative Reduction} \n",
    "    &= \\frac{\n",
    "\t\\frac{\\sum_{i=1}^5 \\text{PM1.0(device off, i)}}{5} - \\frac{\\sum_{i=1}^5 \\text{PM1.0(device on, i)}}{5}\n",
    "} {\\frac{\\sum_{i=1}^5 \\text{PM1.0(device off, i)}}{5}}\n",
    "\\end{aligned}\n",
    "\\end{equation}\n",
    "$$\n",
    "\n",
    "N95s, when there are no leaks around the face, reduce the inhaled aerosols by at least 95%, (i.e. 95% relative reduction). 95% reduction of aerosols (or close to it) is what I was hoping to achieve with this device.\n",
    "\n",
    "#### Fit Factor\n",
    "\n",
    "Fit factor, as [defined by OSHA](https://www.osha.gov/sites/default/files/publications/3352-APF-respirators.pdf), is as follows:\n",
    "> A quantitative estimate of the fit of a particular respirator to a specific individual and typically\n",
    "estimates the ratio of the concentration of a substance in ambient air to its concentration inside the\n",
    "respirator when worn."
   ]
  },
  {
   "cell_type": "markdown",
   "id": "d2d38d2b-820b-4bec-91fb-4512dc374a78",
   "metadata": {},
   "source": [
    "$$\n",
    "\\begin{equation}\n",
    "\\begin{aligned}\n",
    "\t\\text{Fit Factor} &= C_o / C_i\n",
    "\\end{aligned}\n",
    "\\end{equation}\n",
    "$$\n"
   ]
  },
  {
   "cell_type": "markdown",
   "id": "0b0b3c14-c0a6-4b10-a917-2aeeb8e6a1bb",
   "metadata": {},
   "source": [
    "where $Co$ is the concentration in ambient air, while $C_i$ is the concentration inhaled from the device.\n",
    "\n",
    "Relative Reduction and Fit Factor can be related as follows:\n",
    "\n",
    "$$\n",
    "\\begin{equation}\n",
    "\\begin{aligned}\n",
    "\t\\text{Fit Factor} &= \\frac{1}{1 - \\text{Relative Reduction}}\n",
    "\\end{aligned}\n",
    "\\end{equation}\n",
    "$$\n"
   ]
  },
  {
   "cell_type": "markdown",
   "id": "3d017f6e-f523-4e2f-8a44-558fd5cd6b84",
   "metadata": {},
   "source": [
    "So a tight-fitting N95 respirator at the very least can filter out 95% of particles -- a relative reduction of 95%. Thus the corresponding fit factor is $\\frac{1}{1 - 0.95} = \\frac{1}{0.05} = 20$."
   ]
  },
  {
   "cell_type": "markdown",
   "id": "de85621b-8618-44c9-935a-9b33d1a52b76",
   "metadata": {},
   "source": [
    "#### Overall Fit Factor\n",
    "\n",
    "To compute the overall fit factor, we take the harmonic mean:\n",
    "\n",
    "$$\n",
    "\\begin{equation}\n",
    "\\begin{aligned}\n",
    "\t\\text{Overall Fit Factor} &= \\frac{N} {\\frac{1}{FF_1} + \\frac{1}{FF_2} + ... + \\frac{1}{FF_{N-1}} + \\frac{1}{FF_N}}\n",
    "\\end{aligned}\n",
    "\\end{equation}\n",
    "$$\n",
    "\n"
   ]
  },
  {
   "cell_type": "markdown",
   "id": "b0894edc-8c2e-4c43-bbbf-6c71f1b7c4e4",
   "metadata": {},
   "source": [
    "## Computations"
   ]
  },
  {
   "cell_type": "code",
   "execution_count": 2,
   "id": "3ab0e016-b734-45b0-be4f-cfb9513dc20d",
   "metadata": {},
   "outputs": [],
   "source": [
    "metadata = pd.read_csv('../air_cleaner_data/personal-air-cleaner-experiments - Sheet1.csv', parse_dates=['start_time', 'end_time'])"
   ]
  },
  {
   "cell_type": "code",
   "execution_count": 3,
   "id": "b5610aac-c2e0-4e4a-b1b4-d0348ead0dc9",
   "metadata": {},
   "outputs": [
    {
     "data": {
      "text/html": [
       "<div>\n",
       "<style scoped>\n",
       "    .dataframe tbody tr th:only-of-type {\n",
       "        vertical-align: middle;\n",
       "    }\n",
       "\n",
       "    .dataframe tbody tr th {\n",
       "        vertical-align: top;\n",
       "    }\n",
       "\n",
       "    .dataframe thead th {\n",
       "        text-align: right;\n",
       "    }\n",
       "</style>\n",
       "<table border=\"1\" class=\"dataframe\">\n",
       "  <thead>\n",
       "    <tr style=\"text-align: right;\">\n",
       "      <th></th>\n",
       "      <th>start_time</th>\n",
       "      <th>Distance (in)</th>\n",
       "      <th>Experiment</th>\n",
       "      <th>end_time</th>\n",
       "      <th>competing airflow (m/s)</th>\n",
       "      <th>Fan</th>\n",
       "      <th>shroud</th>\n",
       "      <th>spacing (in)</th>\n",
       "      <th>push filters</th>\n",
       "      <th>pull filters</th>\n",
       "      <th>filepath</th>\n",
       "      <th>Speed dial (%)</th>\n",
       "      <th>visor</th>\n",
       "    </tr>\n",
       "  </thead>\n",
       "  <tbody>\n",
       "    <tr>\n",
       "      <th>0</th>\n",
       "      <td>2023-03-26 21:34:45.239273</td>\n",
       "      <td>4</td>\n",
       "      <td>blower, 1 QT3 HEPA, NCAF</td>\n",
       "      <td>2023-03-10 09:46:33.000000</td>\n",
       "      <td>False</td>\n",
       "      <td>blower</td>\n",
       "      <td>False</td>\n",
       "      <td>2.0</td>\n",
       "      <td>1 QT3 HEPA</td>\n",
       "      <td>NaN</td>\n",
       "      <td>../air_cleaner_data/2023-03-10_09-24-21-SPS3x_...</td>\n",
       "      <td>NaN</td>\n",
       "      <td>NaN</td>\n",
       "    </tr>\n",
       "    <tr>\n",
       "      <th>1</th>\n",
       "      <td>2023-03-26 21:39:29.013405</td>\n",
       "      <td>4</td>\n",
       "      <td>blower, 1 QT3 HEPA, NCAF</td>\n",
       "      <td>2023-03-26 21:39:36.282274</td>\n",
       "      <td>False</td>\n",
       "      <td>blower</td>\n",
       "      <td>False</td>\n",
       "      <td>2.0</td>\n",
       "      <td>1 QT3 HEPA</td>\n",
       "      <td>NaN</td>\n",
       "      <td>../air_cleaner_data/2023-03-10_09-24-21-SPS3x_...</td>\n",
       "      <td>NaN</td>\n",
       "      <td>NaN</td>\n",
       "    </tr>\n",
       "    <tr>\n",
       "      <th>2</th>\n",
       "      <td>2023-06-12 13:01:22.083800</td>\n",
       "      <td>2</td>\n",
       "      <td>2 QT3, NF-F12 iPPC-3000 full speed</td>\n",
       "      <td>2023-06-12 13:02:28.077759</td>\n",
       "      <td>NaN</td>\n",
       "      <td>NF-F12 iPPC-3000 Industrial</td>\n",
       "      <td>False</td>\n",
       "      <td>NaN</td>\n",
       "      <td>2 QT3 HEPA</td>\n",
       "      <td>NaN</td>\n",
       "      <td>../air_cleaner_data/2023-06-12_08:46:02.198914...</td>\n",
       "      <td>NaN</td>\n",
       "      <td>NaN</td>\n",
       "    </tr>\n",
       "    <tr>\n",
       "      <th>3</th>\n",
       "      <td>2023-06-12 13:03:29.802904</td>\n",
       "      <td>4</td>\n",
       "      <td>2 QT3, NF-F12 iPPC-3000 full speed</td>\n",
       "      <td>2023-06-12 13:04:10.674973</td>\n",
       "      <td>NaN</td>\n",
       "      <td>NF-F12 iPPC-3000 Industrial</td>\n",
       "      <td>False</td>\n",
       "      <td>NaN</td>\n",
       "      <td>2 QT3 HEPA</td>\n",
       "      <td>NaN</td>\n",
       "      <td>../air_cleaner_data/2023-06-12_08:46:02.198914...</td>\n",
       "      <td>NaN</td>\n",
       "      <td>NaN</td>\n",
       "    </tr>\n",
       "    <tr>\n",
       "      <th>4</th>\n",
       "      <td>2023-06-12 13:04:55.906925</td>\n",
       "      <td>6</td>\n",
       "      <td>2 QT3, NF-F12 iPPC-3000 full speed</td>\n",
       "      <td>2023-06-12 13:05:33.750074</td>\n",
       "      <td>NaN</td>\n",
       "      <td>NF-F12 iPPC-3000 Industrial</td>\n",
       "      <td>False</td>\n",
       "      <td>NaN</td>\n",
       "      <td>2 QT3 HEPA</td>\n",
       "      <td>NaN</td>\n",
       "      <td>../air_cleaner_data/2023-06-12_08:46:02.198914...</td>\n",
       "      <td>NaN</td>\n",
       "      <td>NaN</td>\n",
       "    </tr>\n",
       "  </tbody>\n",
       "</table>\n",
       "</div>"
      ],
      "text/plain": [
       "                  start_time  Distance (in)  \\\n",
       "0 2023-03-26 21:34:45.239273              4   \n",
       "1 2023-03-26 21:39:29.013405              4   \n",
       "2 2023-06-12 13:01:22.083800              2   \n",
       "3 2023-06-12 13:03:29.802904              4   \n",
       "4 2023-06-12 13:04:55.906925              6   \n",
       "\n",
       "                           Experiment                   end_time  \\\n",
       "0            blower, 1 QT3 HEPA, NCAF 2023-03-10 09:46:33.000000   \n",
       "1            blower, 1 QT3 HEPA, NCAF 2023-03-26 21:39:36.282274   \n",
       "2  2 QT3, NF-F12 iPPC-3000 full speed 2023-06-12 13:02:28.077759   \n",
       "3  2 QT3, NF-F12 iPPC-3000 full speed 2023-06-12 13:04:10.674973   \n",
       "4  2 QT3, NF-F12 iPPC-3000 full speed 2023-06-12 13:05:33.750074   \n",
       "\n",
       "  competing airflow (m/s)                          Fan  shroud  spacing (in)  \\\n",
       "0                   False                       blower   False           2.0   \n",
       "1                   False                       blower   False           2.0   \n",
       "2                     NaN  NF-F12 iPPC-3000 Industrial   False           NaN   \n",
       "3                     NaN  NF-F12 iPPC-3000 Industrial   False           NaN   \n",
       "4                     NaN  NF-F12 iPPC-3000 Industrial   False           NaN   \n",
       "\n",
       "  push filters  pull filters  \\\n",
       "0   1 QT3 HEPA           NaN   \n",
       "1   1 QT3 HEPA           NaN   \n",
       "2   2 QT3 HEPA           NaN   \n",
       "3   2 QT3 HEPA           NaN   \n",
       "4   2 QT3 HEPA           NaN   \n",
       "\n",
       "                                            filepath  Speed dial (%) visor  \n",
       "0  ../air_cleaner_data/2023-03-10_09-24-21-SPS3x_...             NaN   NaN  \n",
       "1  ../air_cleaner_data/2023-03-10_09-24-21-SPS3x_...             NaN   NaN  \n",
       "2  ../air_cleaner_data/2023-06-12_08:46:02.198914...             NaN   NaN  \n",
       "3  ../air_cleaner_data/2023-06-12_08:46:02.198914...             NaN   NaN  \n",
       "4  ../air_cleaner_data/2023-06-12_08:46:02.198914...             NaN   NaN  "
      ]
     },
     "execution_count": 3,
     "metadata": {},
     "output_type": "execute_result"
    }
   ],
   "source": [
    "metadata.head(5)"
   ]
  },
  {
   "cell_type": "code",
   "execution_count": 4,
   "id": "d5b388b4-d66c-48cc-9e63-46ca6766090d",
   "metadata": {},
   "outputs": [
    {
     "name": "stderr",
     "output_type": "stream",
     "text": [
      "/Users/eugaddan/Developer/breathesafe/python/miscellaneous/utils.py:76: FutureWarning: The default value of numeric_only in DataFrameGroupBy.sum is deprecated. In a future version, numeric_only will default to False. Either specify numeric_only or select only columns which should be valid for the function.\n",
      "  agg = df.groupby(groupby).sum()[['1/ff']].rename(columns={'1/ff': 'sum 1/ff'})\n"
     ]
    }
   ],
   "source": [
    "csv_metadata = metadata[metadata['Experiment'].str.contains('AirGo QT3')].copy()\n",
    "\n",
    "adjust_timestamps_to_match_local_timezone(['start_time', 'end_time'], csv_metadata, delta='4 hours')\n",
    "csv_metadata['relative_reduction_pm1_0_mass_conc'] = csv_metadata.apply(compute_relative_risk_reduction_per_row, axis=1)\n",
    "csv_metadata['speed'] = csv_metadata['Speed dial (%)'].astype('object')\n",
    "\n",
    "agg = compute_overall_fit_factor(\n",
    "    df=csv_metadata,\n",
    "    groupby=['Experiment', 'speed', 'competing airflow (m/s)', 'visor'],\n",
    "    reduction_col='relative_reduction_pm1_0_mass_conc'\n",
    ")"
   ]
  },
  {
   "cell_type": "markdown",
   "id": "4c9d25d4-92ed-4508-8c9c-22b3fea9b36d",
   "metadata": {},
   "source": [
    "### Overall Fit Factor\n",
    "\n",
    "I tested different scenarios repeatedly. I tested different speeds without competing airflow (i.e. no wind blowing at the user's face) and no visor. I tested 50%, 75%, and 100% speed. The lower the speed, the better, on average, for fit factors. \n",
    "Overall fit factor for 50%, 75%, 100% speeds were about 22, 13, 10 respectively.\n",
    "\n",
    "I then tested a scenario with competing airflow, and no visor. I used 50% speed. The competing airflow was set to 1 m/s, to simulate the effect of breathing in while walking briskly. The overall fit factor dropped from 22 to 1. With the visor at the same speed, I found the overall fit factor jumped up to 14.5. This highlights the importance of using the visor to block horizontal sources of entrainment.\n",
    "\n",
    "Finally, using a lower speed (25%) while keeping the visor on as the fan blew competing airflow, I was able to get an overall fit factor of 20, which is exciting!"
   ]
  },
  {
   "cell_type": "code",
   "execution_count": 5,
   "id": "9d7768cb-d702-4528-b894-1095b2652825",
   "metadata": {
    "scrolled": true
   },
   "outputs": [
    {
     "data": {
      "text/html": [
       "<div>\n",
       "<style scoped>\n",
       "    .dataframe tbody tr th:only-of-type {\n",
       "        vertical-align: middle;\n",
       "    }\n",
       "\n",
       "    .dataframe tbody tr th {\n",
       "        vertical-align: top;\n",
       "    }\n",
       "\n",
       "    .dataframe thead th {\n",
       "        text-align: right;\n",
       "    }\n",
       "</style>\n",
       "<table border=\"1\" class=\"dataframe\">\n",
       "  <thead>\n",
       "    <tr style=\"text-align: right;\">\n",
       "      <th></th>\n",
       "      <th></th>\n",
       "      <th></th>\n",
       "      <th></th>\n",
       "      <th>sum 1/ff</th>\n",
       "      <th>count</th>\n",
       "      <th>overall fit factor</th>\n",
       "    </tr>\n",
       "    <tr>\n",
       "      <th>Experiment</th>\n",
       "      <th>speed</th>\n",
       "      <th>competing airflow (m/s)</th>\n",
       "      <th>visor</th>\n",
       "      <th></th>\n",
       "      <th></th>\n",
       "      <th></th>\n",
       "    </tr>\n",
       "  </thead>\n",
       "  <tbody>\n",
       "    <tr>\n",
       "      <th rowspan=\"6\" valign=\"top\">AirGo QT3, 5 inches</th>\n",
       "      <th>25.0</th>\n",
       "      <th>1</th>\n",
       "      <th>1</th>\n",
       "      <td>0.543538</td>\n",
       "      <td>11</td>\n",
       "      <td>20.237785</td>\n",
       "    </tr>\n",
       "    <tr>\n",
       "      <th rowspan=\"3\" valign=\"top\">50.0</th>\n",
       "      <th>0</th>\n",
       "      <th>0</th>\n",
       "      <td>0.491268</td>\n",
       "      <td>11</td>\n",
       "      <td>22.391025</td>\n",
       "    </tr>\n",
       "    <tr>\n",
       "      <th rowspan=\"2\" valign=\"top\">1</th>\n",
       "      <th>0</th>\n",
       "      <td>9.813368</td>\n",
       "      <td>10</td>\n",
       "      <td>1.019018</td>\n",
       "    </tr>\n",
       "    <tr>\n",
       "      <th>1</th>\n",
       "      <td>0.896149</td>\n",
       "      <td>13</td>\n",
       "      <td>14.506514</td>\n",
       "    </tr>\n",
       "    <tr>\n",
       "      <th>75.0</th>\n",
       "      <th>0</th>\n",
       "      <th>0</th>\n",
       "      <td>0.760401</td>\n",
       "      <td>10</td>\n",
       "      <td>13.150954</td>\n",
       "    </tr>\n",
       "    <tr>\n",
       "      <th>100.0</th>\n",
       "      <th>0</th>\n",
       "      <th>0</th>\n",
       "      <td>0.834126</td>\n",
       "      <td>8</td>\n",
       "      <td>9.590882</td>\n",
       "    </tr>\n",
       "  </tbody>\n",
       "</table>\n",
       "</div>"
      ],
      "text/plain": [
       "                                                         sum 1/ff  count  \\\n",
       "Experiment          speed competing airflow (m/s) visor                    \n",
       "AirGo QT3, 5 inches 25.0  1                       1      0.543538     11   \n",
       "                    50.0  0                       0      0.491268     11   \n",
       "                          1                       0      9.813368     10   \n",
       "                                                  1      0.896149     13   \n",
       "                    75.0  0                       0      0.760401     10   \n",
       "                    100.0 0                       0      0.834126      8   \n",
       "\n",
       "                                                         overall fit factor  \n",
       "Experiment          speed competing airflow (m/s) visor                      \n",
       "AirGo QT3, 5 inches 25.0  1                       1               20.237785  \n",
       "                    50.0  0                       0               22.391025  \n",
       "                          1                       0                1.019018  \n",
       "                                                  1               14.506514  \n",
       "                    75.0  0                       0               13.150954  \n",
       "                    100.0 0                       0                9.590882  "
      ]
     },
     "execution_count": 5,
     "metadata": {},
     "output_type": "execute_result"
    }
   ],
   "source": [
    "agg"
   ]
  },
  {
   "cell_type": "code",
   "execution_count": 6,
   "id": "16569852-7622-428b-9817-4e81176832f0",
   "metadata": {},
   "outputs": [],
   "source": [
    "import seaborn as sns"
   ]
  },
  {
   "cell_type": "code",
   "execution_count": 7,
   "id": "16699922-411c-4e5f-84ff-c959e189a378",
   "metadata": {},
   "outputs": [
    {
     "data": {
      "image/png": "[encoded data removed]",
      "text/plain": [
       "<Figure size 1500x500 with 3 Axes>"
      ]
     },
     "metadata": {},
     "output_type": "display_data"
    }
   ],
   "source": [
    "fig, ax = plt.subplots(1,3, figsize=(15,5))\n",
    "sns.violinplot(data=csv_metadata[\n",
    "    (csv_metadata['competing airflow (m/s)'] == '0') & \\\n",
    "    (csv_metadata['visor'] == '0')\n",
    "], x='Speed dial (%)', y='fit_factor', ax=ax[0])\n",
    "ax[0].set_title(\"No competing airflow, no visor\")\n",
    "\n",
    "sns.violinplot(data=csv_metadata[\n",
    "    (csv_metadata['competing airflow (m/s)'] == '1') & \\\n",
    "    (csv_metadata['visor'] == '0')\n",
    "], x='Speed dial (%)', y='fit_factor', ax=ax[1])\n",
    "\n",
    "ax[1].set_title(\"Competing airflow (1 m/s), no visor\")\n",
    "\n",
    "sns.violinplot(data=csv_metadata[\n",
    "    (csv_metadata['competing airflow (m/s)'] == '1') & \\\n",
    "    (csv_metadata['visor'] == '1')\n",
    "], x='Speed dial (%)', y='fit_factor', ax=ax[2])\n",
    "\n",
    "ax[2].set_title(\"Competing airflow (1 m/s), w/ visor\")\n",
    "\n",
    "for axis in ax:\n",
    "    axis.set_ylim((0,50))\n",
    "    axis.axhline(20, linestyle='--', color='g')\n",
    "\n",
    "    #axis.set_xlim((40,110))\n",
    "    #axis.legend([\"\",'N95 lower bound (95% reduction)'])"
   ]
  },
  {
   "cell_type": "markdown",
   "id": "81d32bae-d95a-43ff-8cb0-783b02d16b24",
   "metadata": {},
   "source": [
    "### Fit Factor Scatterplot"
   ]
  },
  {
   "cell_type": "code",
   "execution_count": 8,
   "id": "2d3f8830-fb6a-4c48-bc0f-d464656d4184",
   "metadata": {},
   "outputs": [
    {
     "data": {
      "image/png": "[encoded data removed]",
      "text/plain": [
       "<Figure size 1500x500 with 3 Axes>"
      ]
     },
     "metadata": {},
     "output_type": "display_data"
    }
   ],
   "source": [
    "fig, ax = plt.subplots(1,3, figsize=(15,5))\n",
    "fig.suptitle('Fit Factors over Experiments with Speed Dial (5\" from device)')\n",
    "alpha=0.5\n",
    "\n",
    "ax[0].set_title(\"No competing airflow, no visor\")\n",
    "csv_metadata[\n",
    "    (csv_metadata['competing airflow (m/s)'] == '0') & \\\n",
    "    (csv_metadata['visor'] == '0')\n",
    "][['Speed dial (%)', 'fit_factor']].plot.scatter(x='Speed dial (%)', y='fit_factor', ax=ax[0], alpha=alpha)\n",
    "\n",
    "ax[1].set_title(\"Competing airflow (1 m/s), no visor\")\n",
    "csv_metadata[\n",
    "    (csv_metadata['competing airflow (m/s)'] == '1') &\n",
    "    (csv_metadata['visor'] == '0')\n",
    "][['Speed dial (%)', 'fit_factor']].plot.scatter(x='Speed dial (%)', y='fit_factor', ax=ax[1],alpha=alpha)\n",
    "\n",
    "ax[2].set_title(\"Competing airflow (1 m/s), w/ visor\")\n",
    "csv_metadata[\n",
    "    (csv_metadata['competing airflow (m/s)'] == '1') &\n",
    "    (csv_metadata['visor'] == '1')\n",
    "][['Speed dial (%)', 'fit_factor']].plot.scatter(x='Speed dial (%)', y='fit_factor', ax=ax[2], alpha=alpha)\n",
    "\n",
    "for axis in ax:\n",
    "    axis.set_ylim((0,50))\n",
    "    axis.axhline(20, linestyle='--', color='g')\n",
    "    axis.set_xlim((20,110))\n",
    "#ax.legend(['no competing airflow (0 m/s), no visor', 'competing airflow (1 m/s), no visor', 'competing airflow (1 m/s), w/ visor', 'N95 lower bound (95% reduction)', '2 CR Boxes on Max + Universal Cloth (90% reduction)'])"
   ]
  },
  {
   "cell_type": "markdown",
   "id": "3321e46e-f7ee-4ada-a329-c93975ceffca",
   "metadata": {},
   "source": [
    "## Loudness\n",
    "\n",
    "Here are loudness levels as measured with an iPhone microphone. Measurements were taken 5 inches directly above the device, where the ears would generally be located. This is to simulate the effect of hearing the device in the point of view of the wearer. Playable recordings were recorded using the VoiceMemo app, so people can judge how relatively loud one setting is compared to other settings.\n",
    "\n",
    "<table>\n",
    "    <thead>\n",
    "        <tr>\n",
    "            <th>Speed Dial (%)</th>\n",
    "            <th>Average Loudness (dB)</th>\n",
    "            <th>Play Button</th>\n",
    "        </tr>\n",
    "    </thead>\n",
    "    <tbody>\n",
    "        <tr>\n",
    "            <td>25</td>\n",
    "            <td>48.6</td>\n",
    "            <td><audio controls src=\"https://breathesafe-airgo.s3.us-east-2.amazonaws.com/images/Airgo%2C+25%25+speed.m4a\"></td>\n",
    "        </tr>\n",
    "        <tr>\n",
    "            <td>50</td>\n",
    "            <td>56.7</td>\n",
    "            <td><audio controls src=\"https://breathesafe-airgo.s3.us-east-2.amazonaws.com/images/Airgo%2C+50%25+speed.m4a\"></td>\n",
    "        </tr>\n",
    "        <tr>\n",
    "            <td>75</td>\n",
    "            <td>60.6</td>\n",
    "            <td><audio controls src=\"https://breathesafe-airgo.s3.us-east-2.amazonaws.com/images/Airgo%2C+75%25+Speed.m4a\"></td>\n",
    "        </tr>\n",
    "        <tr>\n",
    "            <td>100</td>\n",
    "            <td>62.2</td>\n",
    "            <td><audio controls src=\"https://breathesafe-airgo.s3.us-east-2.amazonaws.com/images/AirGo%2C+100%25+Speed.m4a\"></td>\n",
    "        </tr>             \n",
    "    </tbody>\n",
    "</table>\n"
   ]
  },
  {
   "cell_type": "markdown",
   "id": "49ff7ad4-a8e6-4d51-ad6f-7f408377157d",
   "metadata": {},
   "source": [
    "## CADR estimates"
   ]
  },
  {
   "cell_type": "code",
   "execution_count": 9,
   "id": "28382b4c-1edb-498e-8710-e82e580a7489",
   "metadata": {},
   "outputs": [],
   "source": [
    "readings = pd.read_csv('../air_cleaner_data/airgo/anemometer_data.csv')"
   ]
  },
  {
   "cell_type": "markdown",
   "id": "66137cf7-239e-42c0-8117-43e87d48dd3f",
   "metadata": {},
   "source": [
    "### Air Delivery Rates Sampled Over Different Areas of the Filter\n",
    "\n",
    "As expected, there's unevenness in the flow through the filter. There's higher flow on the side closest to the outlet of the blower fan, regardless of the speed dial setting. This could be remedied by building some \"air guide\" in the outlet that more evenly disperses the air to the rest of the filter. Could be done at a later time."
   ]
  },
  {
   "cell_type": "code",
   "execution_count": null,
   "id": "7cbb5bba-0571-4959-9ec5-adc5facc6e6b",
   "metadata": {},
   "outputs": [],
   "source": []
  },
  {
   "cell_type": "code",
   "execution_count": 10,
   "id": "cd084189-ca86-4b31-9c6e-0e1b086ced66",
   "metadata": {},
   "outputs": [
    {
     "data": {
      "text/plain": [
       "Text(0.5, 1.0, 'Speed Dial (%)-to-Flow (m/s) Spatial Relationships')"
      ]
     },
     "execution_count": 10,
     "metadata": {},
     "output_type": "execute_result"
    },
    {
     "data": {
      "image/png": "[encoded data removed]",
      "text/plain": [
       "<Figure size 640x480 with 2 Axes>"
      ]
     },
     "metadata": {},
     "output_type": "display_data"
    }
   ],
   "source": [
    "fig, ax = plt.subplots()\n",
    "sns.heatmap(\n",
    "    readings.set_index(['Speed','Row'])[['Col 1', 'Col 2', 'Col 3','Col 4']],\n",
    "    annot=True,\n",
    "    ax=ax\n",
    ")\n",
    "ax.set_title(\n",
    "    'Speed Dial (%)-to-Flow (m/s) Spatial Relationships'\n",
    ")"
   ]
  },
  {
   "cell_type": "code",
   "execution_count": 11,
   "id": "fa4f74f1-b0b8-4fdc-8bef-21ed76a36f12",
   "metadata": {},
   "outputs": [],
   "source": [
    "speed_estimates = readings.groupby('Speed').sum()[['Col 1', 'Col 2', 'Col 3', 'Col 4']].sum(axis=1) / 16 "
   ]
  },
  {
   "cell_type": "code",
   "execution_count": 18,
   "id": "a93c3086-f162-4ef5-b994-2cecffaada9c",
   "metadata": {},
   "outputs": [],
   "source": [
    "length = 100 # millimeters\n",
    "width = 90 # millimeters\n",
    "area = length * width / 1000000 # square meters"
   ]
  },
  {
   "cell_type": "code",
   "execution_count": 51,
   "id": "6a6861df-9b5c-422d-b72e-d9257e6b61b4",
   "metadata": {},
   "outputs": [
    {
     "data": {
      "text/html": [
       "<div>\n",
       "<style scoped>\n",
       "    .dataframe tbody tr th:only-of-type {\n",
       "        vertical-align: middle;\n",
       "    }\n",
       "\n",
       "    .dataframe tbody tr th {\n",
       "        vertical-align: top;\n",
       "    }\n",
       "\n",
       "    .dataframe thead th {\n",
       "        text-align: right;\n",
       "    }\n",
       "</style>\n",
       "<table border=\"1\" class=\"dataframe\">\n",
       "  <thead>\n",
       "    <tr style=\"text-align: right;\">\n",
       "      <th></th>\n",
       "      <th>Speed</th>\n",
       "      <th>Row</th>\n",
       "      <th>Col 1</th>\n",
       "      <th>Col 2</th>\n",
       "      <th>Col 3</th>\n",
       "      <th>Col 4</th>\n",
       "      <th>Average</th>\n",
       "    </tr>\n",
       "  </thead>\n",
       "  <tbody>\n",
       "    <tr>\n",
       "      <th>0</th>\n",
       "      <td>25</td>\n",
       "      <td>1</td>\n",
       "      <td>1.7</td>\n",
       "      <td>1.7</td>\n",
       "      <td>1.6</td>\n",
       "      <td>1.6</td>\n",
       "      <td>NaN</td>\n",
       "    </tr>\n",
       "    <tr>\n",
       "      <th>1</th>\n",
       "      <td>25</td>\n",
       "      <td>2</td>\n",
       "      <td>1.6</td>\n",
       "      <td>1.2</td>\n",
       "      <td>0.9</td>\n",
       "      <td>0.9</td>\n",
       "      <td>NaN</td>\n",
       "    </tr>\n",
       "    <tr>\n",
       "      <th>2</th>\n",
       "      <td>25</td>\n",
       "      <td>3</td>\n",
       "      <td>1.5</td>\n",
       "      <td>1.4</td>\n",
       "      <td>1.1</td>\n",
       "      <td>1.1</td>\n",
       "      <td>NaN</td>\n",
       "    </tr>\n",
       "    <tr>\n",
       "      <th>3</th>\n",
       "      <td>25</td>\n",
       "      <td>4</td>\n",
       "      <td>1.0</td>\n",
       "      <td>1.1</td>\n",
       "      <td>1.1</td>\n",
       "      <td>1.0</td>\n",
       "      <td>NaN</td>\n",
       "    </tr>\n",
       "    <tr>\n",
       "      <th>4</th>\n",
       "      <td>50</td>\n",
       "      <td>1</td>\n",
       "      <td>2.2</td>\n",
       "      <td>2.1</td>\n",
       "      <td>1.9</td>\n",
       "      <td>1.7</td>\n",
       "      <td>NaN</td>\n",
       "    </tr>\n",
       "    <tr>\n",
       "      <th>5</th>\n",
       "      <td>50</td>\n",
       "      <td>2</td>\n",
       "      <td>2.1</td>\n",
       "      <td>1.6</td>\n",
       "      <td>1.2</td>\n",
       "      <td>1.1</td>\n",
       "      <td>NaN</td>\n",
       "    </tr>\n",
       "    <tr>\n",
       "      <th>6</th>\n",
       "      <td>50</td>\n",
       "      <td>3</td>\n",
       "      <td>2.3</td>\n",
       "      <td>2.0</td>\n",
       "      <td>1.4</td>\n",
       "      <td>1.4</td>\n",
       "      <td>NaN</td>\n",
       "    </tr>\n",
       "    <tr>\n",
       "      <th>7</th>\n",
       "      <td>50</td>\n",
       "      <td>4</td>\n",
       "      <td>1.4</td>\n",
       "      <td>1.7</td>\n",
       "      <td>1.0</td>\n",
       "      <td>1.3</td>\n",
       "      <td>NaN</td>\n",
       "    </tr>\n",
       "    <tr>\n",
       "      <th>8</th>\n",
       "      <td>75</td>\n",
       "      <td>1</td>\n",
       "      <td>2.4</td>\n",
       "      <td>2.2</td>\n",
       "      <td>2.0</td>\n",
       "      <td>2.1</td>\n",
       "      <td>NaN</td>\n",
       "    </tr>\n",
       "    <tr>\n",
       "      <th>9</th>\n",
       "      <td>75</td>\n",
       "      <td>2</td>\n",
       "      <td>2.7</td>\n",
       "      <td>1.9</td>\n",
       "      <td>1.3</td>\n",
       "      <td>1.3</td>\n",
       "      <td>NaN</td>\n",
       "    </tr>\n",
       "    <tr>\n",
       "      <th>10</th>\n",
       "      <td>75</td>\n",
       "      <td>3</td>\n",
       "      <td>2.6</td>\n",
       "      <td>2.3</td>\n",
       "      <td>1.6</td>\n",
       "      <td>1.5</td>\n",
       "      <td>NaN</td>\n",
       "    </tr>\n",
       "    <tr>\n",
       "      <th>11</th>\n",
       "      <td>75</td>\n",
       "      <td>4</td>\n",
       "      <td>1.7</td>\n",
       "      <td>1.7</td>\n",
       "      <td>1.8</td>\n",
       "      <td>1.5</td>\n",
       "      <td>NaN</td>\n",
       "    </tr>\n",
       "    <tr>\n",
       "      <th>12</th>\n",
       "      <td>100</td>\n",
       "      <td>1</td>\n",
       "      <td>2.8</td>\n",
       "      <td>2.4</td>\n",
       "      <td>2.0</td>\n",
       "      <td>2.1</td>\n",
       "      <td>NaN</td>\n",
       "    </tr>\n",
       "    <tr>\n",
       "      <th>13</th>\n",
       "      <td>100</td>\n",
       "      <td>2</td>\n",
       "      <td>2.9</td>\n",
       "      <td>2.2</td>\n",
       "      <td>1.7</td>\n",
       "      <td>1.6</td>\n",
       "      <td>NaN</td>\n",
       "    </tr>\n",
       "    <tr>\n",
       "      <th>14</th>\n",
       "      <td>100</td>\n",
       "      <td>3</td>\n",
       "      <td>3.0</td>\n",
       "      <td>2.4</td>\n",
       "      <td>1.8</td>\n",
       "      <td>1.6</td>\n",
       "      <td>NaN</td>\n",
       "    </tr>\n",
       "    <tr>\n",
       "      <th>15</th>\n",
       "      <td>100</td>\n",
       "      <td>4</td>\n",
       "      <td>2.3</td>\n",
       "      <td>2.1</td>\n",
       "      <td>2.0</td>\n",
       "      <td>1.8</td>\n",
       "      <td>NaN</td>\n",
       "    </tr>\n",
       "  </tbody>\n",
       "</table>\n",
       "</div>"
      ],
      "text/plain": [
       "    Speed  Row  Col 1  Col 2  Col 3  Col 4  Average\n",
       "0      25    1    1.7    1.7    1.6    1.6      NaN\n",
       "1      25    2    1.6    1.2    0.9    0.9      NaN\n",
       "2      25    3    1.5    1.4    1.1    1.1      NaN\n",
       "3      25    4    1.0    1.1    1.1    1.0      NaN\n",
       "4      50    1    2.2    2.1    1.9    1.7      NaN\n",
       "5      50    2    2.1    1.6    1.2    1.1      NaN\n",
       "6      50    3    2.3    2.0    1.4    1.4      NaN\n",
       "7      50    4    1.4    1.7    1.0    1.3      NaN\n",
       "8      75    1    2.4    2.2    2.0    2.1      NaN\n",
       "9      75    2    2.7    1.9    1.3    1.3      NaN\n",
       "10     75    3    2.6    2.3    1.6    1.5      NaN\n",
       "11     75    4    1.7    1.7    1.8    1.5      NaN\n",
       "12    100    1    2.8    2.4    2.0    2.1      NaN\n",
       "13    100    2    2.9    2.2    1.7    1.6      NaN\n",
       "14    100    3    3.0    2.4    1.8    1.6      NaN\n",
       "15    100    4    2.3    2.1    2.0    1.8      NaN"
      ]
     },
     "execution_count": 51,
     "metadata": {},
     "output_type": "execute_result"
    }
   ],
   "source": [
    "readings"
   ]
  },
  {
   "cell_type": "code",
   "execution_count": 19,
   "id": "82251e00-2f93-4010-beb8-9bc44982b70a",
   "metadata": {},
   "outputs": [],
   "source": [
    "cubic_feet_per_minute = compute_cadr(\n",
    "    df=readings,\n",
    "    number_of_readings_per_grouping=16,\n",
    "    column_names=['Col 1', 'Col 2', 'Col 3', 'Col 4'],\n",
    "    groupby_cols=['Speed'],\n",
    "    filter_area_sq_meters=area,\n",
    "    single_pass_filtration_efficiency=0.95\n",
    ")"
   ]
  },
  {
   "cell_type": "code",
   "execution_count": 20,
   "id": "3356ac71-1d5d-4453-b762-6650390aa88f",
   "metadata": {},
   "outputs": [
    {
     "data": {
      "text/plain": [
       "Speed\n",
       "25     23.211690\n",
       "50     29.892128\n",
       "75     34.647694\n",
       "100    39.290032\n",
       "dtype: float64"
      ]
     },
     "execution_count": 20,
     "metadata": {},
     "output_type": "execute_result"
    }
   ],
   "source": [
    "cubic_feet_per_minute"
   ]
  },
  {
   "cell_type": "markdown",
   "id": "81c47399-4985-44df-aa59-e1af8f141609",
   "metadata": {},
   "source": [
    "### Gut Check\n",
    "\n",
    "The [GDSTIME blower fan Amazon page](https://www.amazon.com/GDSTIME-Brushless-4-72x4-72x1-26-Inflatables-Ventilation/dp/B089Y3QPYF/ref=sr_1_6?keywords=gdstime+120mm+blower+fan&qid=1693407484&sprefix=gdstime+120mm%2Caps%2C118&sr=8-6) says the air delivery rate is 35 CFM. If they are right, then I am off by about 4 CFM when running the device at 100% speed. "
   ]
  },
  {
   "cell_type": "markdown",
   "id": "d0a842c7-6d92-4308-ab95-92311b4a8060",
   "metadata": {},
   "source": [
    "## Taking into account the error from Kestrel Anemometer\n",
    "\n",
    "Kestrel Anemometer could be off by +/- 0.1 m/s, according to the specs sheet. I use a probabilistic (Bayesian) approach to estimate the how precise this estimate is. I assume that each measurement is unbiased, but can be off by +/- 0.1 m/s. I assume a normal distribution with the mean being the measurement, and the standard deviation being some value such that most of the distribution is between 0.1 m/s of the actual value.\n",
    "\n"
   ]
  },
  {
   "cell_type": "code",
   "execution_count": 72,
   "id": "13e218ef-13cd-46e7-815b-31b2e02383bc",
   "metadata": {},
   "outputs": [],
   "source": [
    "simulations = []\n",
    "for i in range(1000):\n",
    "    copy = readings.copy()\n",
    "    \n",
    "    for col in ('Col 1', 'Col 2', 'Col 3', 'Col 4'):\n",
    "        copy.loc[:, col] = readings[['Col 1', 'Col 2', 'Col 3', 'Col 4']].copy() + \\\n",
    "        pd.DataFrame(np.random.normal(0, 0.03, (16,4))).rename(columns={0: 'Col 1', 1: 'Col 2', 2: 'Col 3', 3: 'Col 4'})\n",
    "    \n",
    "    cubic_feet_per_minute_sim = compute_cadr(\n",
    "        df=copy,\n",
    "        number_of_readings_per_grouping=16,\n",
    "        column_names=['Col 1', 'Col 2', 'Col 3', 'Col 4'],\n",
    "        groupby_cols=['Speed'],\n",
    "        filter_area_sq_meters=area,\n",
    "        single_pass_filtration_efficiency=0.95\n",
    "    )\n",
    "\n",
    "    simulations.append(cubic_feet_per_minute_sim)"
   ]
  },
  {
   "cell_type": "code",
   "execution_count": 75,
   "id": "f96b1d4e-5545-4644-a5ea-228ce9343ce8",
   "metadata": {},
   "outputs": [],
   "source": [
    "simul_df = pd.DataFrame(simulations)"
   ]
  },
  {
   "cell_type": "code",
   "execution_count": 76,
   "id": "8dd47524-850e-44ea-bb3b-ad7f410058e4",
   "metadata": {},
   "outputs": [
    {
     "data": {
      "text/plain": [
       "Speed\n",
       "25     22.722351\n",
       "50     29.361787\n",
       "75     34.190180\n",
       "100    38.815360\n",
       "dtype: float64"
      ]
     },
     "execution_count": 76,
     "metadata": {},
     "output_type": "execute_result"
    }
   ],
   "source": [
    "simul_df.min()"
   ]
  },
  {
   "cell_type": "code",
   "execution_count": 77,
   "id": "02a7e22b-7434-4514-aae4-af3fe8182629",
   "metadata": {},
   "outputs": [
    {
     "data": {
      "text/plain": [
       "Speed\n",
       "25     23.690515\n",
       "50     30.314076\n",
       "75     35.069407\n",
       "100    39.710671\n",
       "dtype: float64"
      ]
     },
     "execution_count": 77,
     "metadata": {},
     "output_type": "execute_result"
    }
   ],
   "source": [
    "simul_df.max()"
   ]
  },
  {
   "cell_type": "code",
   "execution_count": 79,
   "id": "5b64bb0c-e8eb-43dc-8198-c97170ed7291",
   "metadata": {},
   "outputs": [],
   "source": [
    "y_err = simul_df.max() - simul_df.min()"
   ]
  },
  {
   "cell_type": "code",
   "execution_count": 80,
   "id": "0fe0ecbc-cd31-48a1-9969-596813d36ab5",
   "metadata": {},
   "outputs": [
    {
     "data": {
      "text/plain": [
       "<Axes: title={'center': 'Speed Dial (%) vs CADR (CFM)'}, xlabel='Speed'>"
      ]
     },
     "execution_count": 80,
     "metadata": {},
     "output_type": "execute_result"
    },
    {
     "data": {
      "image/png": "[encoded data removed]",
      "text/plain": [
       "<Figure size 640x480 with 1 Axes>"
      ]
     },
     "metadata": {},
     "output_type": "display_data"
    }
   ],
   "source": [
    "fig, ax = plt.subplots(1,1)\n",
    "ax.set_title(\"Speed Dial (%) vs CADR (CFM)\")\n",
    "cubic_feet_per_minute.plot.bar(ax=ax, yerr=yerr)"
   ]
  },
  {
   "cell_type": "code",
   "execution_count": null,
   "id": "4d98e172-c1d9-4dfa-a229-0dbde0ce8a3a",
   "metadata": {},
   "outputs": [],
   "source": []
  }
 ],
 "metadata": {
  "kernelspec": {
   "display_name": "Python 3 (ipykernel)",
   "language": "python",
   "name": "python3"
  },
  "language_info": {
   "codemirror_mode": {
    "name": "ipython",
    "version": 3
   },
   "file_extension": ".py",
   "mimetype": "text/x-python",
   "name": "python",
   "nbconvert_exporter": "python",
   "pygments_lexer": "ipython3",
   "version": "3.10.5"
  }
 },
 "nbformat": 4,
 "nbformat_minor": 5
}
