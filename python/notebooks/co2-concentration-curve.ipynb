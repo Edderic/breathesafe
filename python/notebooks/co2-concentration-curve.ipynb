{
 "cells": [
  {
   "cell_type": "markdown",
   "id": "956d4d2a-a6b0-44a4-a46d-b6e6b3f5f547",
   "metadata": {},
   "source": [
    "## CO2 concentration curve"
   ]
  },
  {
   "cell_type": "markdown",
   "id": "958e184f-a163-4794-a783-2b31fa22abc5",
   "metadata": {},
   "source": [
    "|Variable| Description | Units |\n",
    "| - | - | - |\n",
    "| $\\frac{dC}{dt}$ | instantaneous rate of change of CO2 concentration | |\n",
    "| $V$ | Volume of the room | $m^3$ |\n",
    "| $t$ | Time | $\\text{min}$ |\n",
    "| $Q$ | Ventilation rate | $m^3 / \\text{min}$ |\n",
    "| $n$ | occupancy | persons |\n",
    "| $G$ | CO2 generation rate per person | parts per million / min|\n",
    "| $C_\\text{ambient}$ | CO2 mbient reading of outside | parts per million |\n",
    "\n",
    "\n"
   ]
  },
  {
   "cell_type": "markdown",
   "id": "1ecb78ac-cc58-4698-bc5f-bf9a12146b79",
   "metadata": {},
   "source": [
    "$$\n",
    "\\begin{equation}\n",
    "\\begin{aligned}\n",
    "    \\frac{dC}{dt} &= \\frac{Q \\cdot (C_\\text{ambient} - C_t) + n \\cdot G}{V} \\\\\n",
    "    V \\cdot \\frac{dC}{dt} &= Q \\cdot (C_\\text{ambient} - C_t) + n \\cdot G \\\\\n",
    "    B_t &= Q \\cdot (C_\\text{ambient} - C_t) + n \\cdot G \\\\\n",
    "    B_0 &= Q \\cdot (C_\\text{ambient} - C_0) + n \\cdot G \\\\\n",
    "    \\frac{dB_t}{dt} &= -Q \\frac{dC_t}{dt} \\\\\n",
    "    -\\frac{1}{Q} \\cdot \\frac{dB_t}{dt} &= \\frac{dC_t}{dt} \\\\\n",
    "    -\\frac{1}{Q} \\cdot \\frac{dB_t}{dt} &= \\frac{B_t}{V} \\\\\n",
    "    -\\frac{V}{Q} \\cdot \\frac{dB_t}{dt} &= B_t \\\\\n",
    "    -\\frac{V}{Q} \\cdot \\frac{dB_t}{B_t} &= dt \\\\\n",
    "    \\frac{dB_t}{B_t} &= -\\frac{Q}{V} \\cdot dt \\\\\n",
    "    \\int_0^t \\frac{1}{B_t} \\cdot dB_t &= -\\frac{Q}{V} \\int_0^t dt \\\\\n",
    "    ln(B_t) - ln(B_0) &= -\\frac{Q}{V} \\cdot t  \\\\\n",
    "    e^{ln(B_t) - ln(B_0)} &= e^{-\\frac{Q}{V} \\cdot t}  \\\\\n",
    "    e^{ln(B_t)} /e^{ln(B_0)} &= e^{-\\frac{Q}{V} \\cdot t}  \\\\\n",
    "    B_t / B_0 &= e^{-\\frac{Q}{V} \\cdot t}  \\\\\n",
    "    B_t &= B_0 \\cdot e^{-\\frac{Q}{V} \\cdot t}  \\\\\n",
    "    Q \\cdot (C_\\text{ambient} - C_t) + n \\cdot G &= (Q \\cdot (C_\\text{ambient} - C_0) + n \\cdot G) \\cdot e^{-\\frac{Q}{V} \\cdot t}  \\\\\n",
    "    Q \\cdot (C_\\text{ambient} - C_t) &= -n \\cdot G + (-Q \\cdot (C_\\text{ambient} - C_0) + n \\cdot G) \\cdot e^{-\\frac{Q}{V} \\cdot t}  \\\\\n",
    "    C_\\text{ambient} - C_t &= \\frac{-n \\cdot G}{Q} + ((C_\\text{ambient} - C_0) + \\frac{n \\cdot G}{Q}) \\cdot e^{-\\frac{Q}{V} \\cdot t}  \\\\\n",
    "    C_t &= \\frac{n \\cdot G}{Q} + ((C_0 - C_\\text{ambient}) - \\frac{n \\cdot G}{Q}) \\cdot e^{-\\frac{Q}{V} \\cdot t}  + C_\\text{ambient}  \\\\\n",
    "\\end{aligned}\n",
    "\\end{equation}\n",
    "$$\n",
    "\n"
   ]
  },
  {
   "cell_type": "markdown",
   "id": "ddbcc432-9ad5-4e96-88f6-4de762dd33ba",
   "metadata": {},
   "source": [
    "## Special cases\n",
    "\n",
    "Steady state is reached when the $Q/V \\cdot t$ term is high enough such that $e^{-Q/V \\cdot t}$ is 0. In that case:\n",
    "\n",
    "$$\n",
    "\\begin{equation}\n",
    "\\begin{aligned}\n",
    "    C_t &= \\frac{n \\cdot G}{Q} + ((C_0 - C_\\text{ambient}) - \\frac{n \\cdot G}{Q}) \\cdot e^{-\\frac{Q}{V} \\cdot t}  + C_\\text{ambient}  \\\\\n",
    "&= \\frac{n \\cdot G}{Q} + C_\\text{ambient}  \\\\\n",
    "\\end{aligned}\n",
    "\\end{equation}\n",
    "$$\n",
    "\n",
    "In other words, the CO2 curve will flatten to the generation rate of CO2 (i.e. $n \\cdot G$) divided by the ventilation rate $Q$. If the ventilation rate is high relative to $n \\cdot G$, then you'll get a reading close to $C_\\text{ambient}$. Likewise, if there are no occupants (i.e. $n = 0$), in the long run, your reading should approach $C_\\text{ambient}$.\n"
   ]
  },
  {
   "cell_type": "markdown",
   "id": "35ea14cc-ab23-4b6a-a0a8-4e8feb97e0e6",
   "metadata": {},
   "source": [
    "## Occupancy Detection\n",
    "\n",
    "### Strategy:\n",
    "\n",
    "For a small period of time (15 minutes?):\n",
    "- Get reading from outside ($C_\\text{ambient}$).\n",
    "- Have an individual make note of how many people are in the room (estimate $n$).\n",
    "- Record what activity people are generally doing in the room (i.e. standing, sitting, exercising). This will help us estimate $G$.\n",
    "- Get volume measurement of the room $V$.\n",
    "- Capture CO2 data indoors.\n",
    "- Fit that CO2 data. Estimate the ventilation rate $Q$.\n",
    "- Leave CO2 monitor in the room for how long we want (e.g. 1 hour, 1 day, 30 days).\n",
    "  \n",
    "Assuming $Q$ is constant throughout (e.g. windows aren't being opened or the system does not use demand controlled ventilation), we could then plug the CO2 data into our model to derive occupancy over time, without the data collector having to be there for the whole duration (e.g. 30 days).\n",
    "\n",
    "### Occupancy estimates\n",
    "\n",
    "Given these occupancy estimates, one could then calibrate visitation estimates using mobility data.\n",
    "\n",
    "  \n"
   ]
  },
  {
   "cell_type": "code",
   "execution_count": null,
   "id": "6ca9e50e-330b-41f8-8fd1-55ac96818b8f",
   "metadata": {},
   "outputs": [],
   "source": []
  }
 ],
 "metadata": {
  "kernelspec": {
   "display_name": "Python 3 (ipykernel)",
   "language": "python",
   "name": "python3"
  },
  "language_info": {
   "codemirror_mode": {
    "name": "ipython",
    "version": 3
   },
   "file_extension": ".py",
   "mimetype": "text/x-python",
   "name": "python",
   "nbconvert_exporter": "python",
   "pygments_lexer": "ipython3",
   "version": "3.12.7"
  }
 },
 "nbformat": 4,
 "nbformat_minor": 5
}
